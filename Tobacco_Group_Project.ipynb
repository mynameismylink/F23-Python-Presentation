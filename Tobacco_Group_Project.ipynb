{
  "cells": [
    {
      "cell_type": "code",
      "execution_count": 2,
      "metadata": {
        "colab": {
          "base_uri": "https://localhost:8080/"
        },
        "id": "IkPxTl9vh1mW",
        "outputId": "02b0cd92-9ae5-41f0-df51-2cc0585169cb"
      },
      "outputs": [
        {
          "output_type": "stream",
          "name": "stdout",
          "text": [
            "Requirement already satisfied: pycountry in /usr/local/lib/python3.10/dist-packages (22.3.5)\n",
            "Requirement already satisfied: setuptools in /usr/local/lib/python3.10/dist-packages (from pycountry) (67.7.2)\n"
          ]
        }
      ],
      "source": [
        "pip install pycountry"
      ]
    },
    {
      "cell_type": "code",
      "execution_count": 3,
      "metadata": {
        "colab": {
          "base_uri": "https://localhost:8080/"
        },
        "id": "u8z2teEVhsur",
        "outputId": "a7814dd5-1698-42cb-f18a-9e3781ca505d"
      },
      "outputs": [
        {
          "output_type": "stream",
          "name": "stdout",
          "text": [
            "Collecting wbdata\n",
            "  Downloading wbdata-0.3.0-py3-none-any.whl (14 kB)\n",
            "Requirement already satisfied: appdirs<2.0,>=1.4 in /usr/local/lib/python3.10/dist-packages (from wbdata) (1.4.4)\n",
            "Requirement already satisfied: decorator>=4.0 in /usr/local/lib/python3.10/dist-packages (from wbdata) (4.4.2)\n",
            "Requirement already satisfied: requests>=2.0 in /usr/local/lib/python3.10/dist-packages (from wbdata) (2.31.0)\n",
            "Requirement already satisfied: tabulate>=0.8.5 in /usr/local/lib/python3.10/dist-packages (from wbdata) (0.9.0)\n",
            "Requirement already satisfied: charset-normalizer<4,>=2 in /usr/local/lib/python3.10/dist-packages (from requests>=2.0->wbdata) (3.3.1)\n",
            "Requirement already satisfied: idna<4,>=2.5 in /usr/local/lib/python3.10/dist-packages (from requests>=2.0->wbdata) (3.4)\n",
            "Requirement already satisfied: urllib3<3,>=1.21.1 in /usr/local/lib/python3.10/dist-packages (from requests>=2.0->wbdata) (2.0.7)\n",
            "Requirement already satisfied: certifi>=2017.4.17 in /usr/local/lib/python3.10/dist-packages (from requests>=2.0->wbdata) (2023.7.22)\n",
            "Installing collected packages: wbdata\n",
            "Successfully installed wbdata-0.3.0\n"
          ]
        }
      ],
      "source": [
        "pip install wbdata"
      ]
    },
    {
      "cell_type": "code",
      "execution_count": 4,
      "metadata": {
        "id": "DPTtErmze2Rv"
      },
      "outputs": [],
      "source": [
        "import wbdata\n",
        "import pandas as pd\n",
        "import datetime\n",
        "from geopy.geocoders import Nominatim\n",
        "import pycountry\n",
        "import json\n",
        "import plotly.express as px\n",
        "import matplotlib.pyplot as plt\n",
        "import seaborn as sns\n",
        "import numpy as np\n",
        "import random"
      ]
    },
    {
      "cell_type": "code",
      "execution_count": 5,
      "metadata": {
        "id": "Lgcb0oT5gQAH"
      },
      "outputs": [],
      "source": [
        "indicators = {'NY.GDP.PCAP.KD':'GDP per capita',\n",
        "              'SH.PRV.SMOK': 'Prevalence of total tobacco use',\n",
        "              'SH.PRV.SMOK.FE':'Tobacco use by Females',\n",
        "              'SH.PRV.SMOK.MA': 'Tobacco use by males',\n",
        "              'SH.ALC.PCAP.LI': 'Prevalence of total alcohol use',\n",
        "              'SH.ALC.PCAP.FE.LI':'Alcohol use by females',\n",
        "              'SH.ALC.PCAP.MA.LI':'Alcohol use by males',\n",
        "             }"
      ]
    },
    {
      "cell_type": "code",
      "execution_count": null,
      "metadata": {
        "id": "5CZgcv3fgRiW"
      },
      "outputs": [],
      "source": [
        "# southeast_asia(in case) = [\n",
        "#     'BRN', 'KH' , 'ID', 'LA', 'MY', 'MM', 'PH', 'SG', 'TH', 'VN'\n",
        "# ]\n",
        "\n",
        "df = wbdata.get_dataframe(indicators, country =[])\n",
        "df.reset_index(inplace=True)\n",
        "years_of_interest = ['2000', '2005', '2010', '2015', '2019']\n",
        "\n",
        "# Filter the DataFrame to include only the desired years\n",
        "df = df[df.date.isin(years_of_interest)]\n",
        "df = df.groupby('country').apply(lambda x: x.sort_values('date', ascending=True))\n",
        "\n",
        "# Reset the index to make the DataFrame look cleaner\n",
        "df.reset_index(drop=True, inplace=True)\n",
        "df"
      ]
    },
    {
      "cell_type": "code",
      "execution_count": null,
      "metadata": {
        "id": "Fp-vAmdqgUEC"
      },
      "outputs": [],
      "source": [
        "df.columns"
      ]
    },
    {
      "cell_type": "code",
      "source": [
        "df.describe()"
      ],
      "metadata": {
        "id": "RCd05_lWe8NT"
      },
      "execution_count": null,
      "outputs": []
    },
    {
      "cell_type": "code",
      "execution_count": null,
      "metadata": {
        "id": "Yd1e0eTNgU_D"
      },
      "outputs": [],
      "source": [
        "print(df.isnull().sum())"
      ]
    },
    {
      "cell_type": "code",
      "execution_count": null,
      "metadata": {
        "id": "Vh13X9GdgWx_"
      },
      "outputs": [],
      "source": [
        "country_name_to_code = {country.name: country.alpha_3 for country in pycountry.countries}\n",
        "\n",
        "# Add a new column for country codes and populate it based on country names\n",
        "df['country_code'] = df['country'].apply(lambda x: country_name_to_code.get(x, None))"
      ]
    },
    {
      "cell_type": "code",
      "execution_count": null,
      "metadata": {
        "id": "BC5Qe7fygX68"
      },
      "outputs": [],
      "source": [
        "country_codes = {\n",
        "    'Bahamas, The':'BHS',\n",
        "    'Bolivia' :'BOL',\n",
        "    'British Virgin Islands':'VGB',\n",
        "    'Congo, Dem. Rep.':'CD',\n",
        "    'Congo, Rep.' :'COG',\n",
        "    \"Cote d'Ivoire\" :'CIV',\n",
        "    'Egypt, Arab Rep.':'EGY',\n",
        "    'Gambia, The':'GMB',\n",
        "    'Hong Kong SAR, China':'HKG',\n",
        "    'Iran, Islamic Rep.':'IRN',\n",
        "    \"Korea, Dem. People's Rep.\":'PRK',\n",
        "    'Korea, Rep.':'KOR',\n",
        "    'Kosovo':'XXK',\n",
        "    'Kyrgyz Republic' :'KGZ',\n",
        "    'Lao PDR' :'LAO',\n",
        "    'Macao SAR, China':'MAC',\n",
        "    'Micronesia, Fed. Sts.':'FSM',\n",
        "    'Moldova':'MDA',\n",
        "    'Slovak Republic' :'SVK',\n",
        "    'St. Kitts and Nevis' :'KNA',\n",
        "    'St. Lucia':'LCA',\n",
        "    'St. Vincent and the Grenadines' :'VCT',\n",
        "    'Tanzania':'TZA',\n",
        "    'Turkiye' :'TUR',\n",
        "    'Venezuela, RB':'VEN',\n",
        "    'Virgin Islands (U.S.)' :'VIR',\n",
        "    'West Bank and Gaza':'PSE',\n",
        "    'Yemen, Rep.':'YEM'  # Add more countries as needed\n",
        "}\n",
        "\n",
        "missing_codes = df['country_code'].isnull()\n",
        "for country, code in country_codes.items():\n",
        "    df.loc[df['country'] == country, 'country_code'] = code"
      ]
    },
    {
      "cell_type": "code",
      "execution_count": null,
      "metadata": {
        "id": "-l1X7z-BgbN7"
      },
      "outputs": [],
      "source": [
        "income_levels = ['Low', 'Lower-middle', 'Upper-middle', 'High']\n",
        "\n",
        "# Create bins for income levels\n",
        "bins = [0, 1086, 4255, 13205, 200000]\n",
        "\n",
        "# Cut gdp_per_capita into bins based on income levels\n",
        "df['Income Level'] = pd.cut(df['GDP per capita'], bins, labels=income_levels)\n",
        "df"
      ]
    },
    {
      "cell_type": "code",
      "source": [
        "#Reordering for better visibility\n",
        "df = df[['country', 'date', 'GDP per capita', 'Income Level', 'Prevalence of total tobacco use',\n",
        "         'Tobacco use by Females', 'Tobacco use by males', 'Prevalence of total alcohol use',\n",
        "         'Alcohol use by females', 'Alcohol use by males', 'country_code']]\n",
        "df"
      ],
      "metadata": {
        "id": "W75_a2J4YdS2"
      },
      "execution_count": null,
      "outputs": []
    },
    {
      "cell_type": "code",
      "execution_count": null,
      "metadata": {
        "id": "XBCzi3nn_Hqs"
      },
      "outputs": [],
      "source": [
        "print(df.isnull().sum())"
      ]
    },
    {
      "cell_type": "code",
      "source": [
        "testing_missing = df.loc[df['country_code'].isnull(), 'country'].unique()\n",
        "print(testing_missing)"
      ],
      "metadata": {
        "id": "wCvixE55ZcPt"
      },
      "execution_count": null,
      "outputs": []
    },
    {
      "cell_type": "code",
      "source": [
        "missing_country = df[df['country_code'].isnull()]\n",
        "missing_country_codes = missing_country.assign()\n",
        "\n",
        "missing_country_codes"
      ],
      "metadata": {
        "id": "Kh3t5p1mZgGp"
      },
      "execution_count": null,
      "outputs": []
    },
    {
      "cell_type": "code",
      "execution_count": null,
      "metadata": {
        "id": "XE3x9HYV-TJj"
      },
      "outputs": [],
      "source": [
        "df_cleaned = df.dropna(subset=['country_code', 'Prevalence of total tobacco use'])\n",
        "df = df_cleaned\n",
        "df"
      ]
    },
    {
      "cell_type": "code",
      "source": [
        "print(df.isnull().sum())"
      ],
      "metadata": {
        "id": "G0ONXBn4eeYH"
      },
      "execution_count": null,
      "outputs": []
    },
    {
      "cell_type": "code",
      "execution_count": null,
      "metadata": {
        "id": "pk7bS1LyjMuJ"
      },
      "outputs": [],
      "source": [
        "income_level_null = df[df['Income Level'].isnull()]\n",
        "print(income_level_null)"
      ]
    },
    {
      "cell_type": "code",
      "source": [
        "sorted_missing_country_codes = missing_country_codes.sort_values('date', ascending=True)\n",
        "country_names = ['Africa Eastern and Southern', 'Africa Western and Central',\n",
        "                'East Asia & Pacific', 'Europe & Central Asia', 'Latin America & Caribbean',\n",
        "                'Middle East & North Africa', 'North America', 'South Asia',\n",
        "                'Sub-Saharan Africa', 'Arab World']\n",
        "\n",
        "countries_to_plot = sorted_missing_country_codes.country  # Add more countries as needed\n",
        "\n",
        "plt.figure(figsize=(11, 7))\n",
        "\n",
        "# Iterate over the list of countries and plot the data for each\n",
        "for country_name in country_names:\n",
        "    country_data = sorted_missing_country_codes[sorted_missing_country_codes['country'] == country_name]\n",
        "    sns.lineplot(data=country_data, x='date', y='Prevalence of total tobacco use', marker='o', label=country_name)\n",
        "\n",
        "plt.xlabel('Year')\n",
        "plt.ylabel('Smokers % of adult population')\n",
        "plt.title('Trend of Smokers % of adult population over the Years')\n",
        "plt.grid(True)\n",
        "plt.legend()  # Add a legend to distinguish countries\n",
        "plt.show()"
      ],
      "metadata": {
        "id": "xsHS4-6TaGlz"
      },
      "execution_count": null,
      "outputs": []
    },
    {
      "cell_type": "markdown",
      "source": [
        "### Explain the decrease: https://www3.paho.org/hq/index.php?option=com_content&view=article&id=13496:who-report-finds-dramatic-increase-in-life-saving-tobacco-control-policies-in-last-decade&Itemid=0&lang=en#gsc.tab=0\n",
        "\n",
        "More control policies"
      ],
      "metadata": {
        "id": "vUMkSd3v_Phv"
      }
    },
    {
      "cell_type": "code",
      "execution_count": null,
      "metadata": {
        "id": "ZCECNlIDjN6C"
      },
      "outputs": [],
      "source": [
        "df_2000 = df_cleaned[df_cleaned['date'] == '2000']\n",
        "df_2005 = df_cleaned[df_cleaned['date'] == '2005']\n",
        "df_2010 = df_cleaned[df_cleaned['date'] == '2010']\n",
        "df_2015 = df_cleaned[df_cleaned['date'] == '2015']\n",
        "df_2019 = df_cleaned[df_cleaned['date'] == '2019']"
      ]
    },
    {
      "cell_type": "code",
      "execution_count": null,
      "metadata": {
        "id": "33WP7voRACjL"
      },
      "outputs": [],
      "source": [
        "# Load GeoJSON data from file into a variable\n",
        "with open('countries.geojson', 'r') as geojson_file:\n",
        "    geojson_data = json.load(geojson_file)\n",
        "\n",
        "# px.set_mapbox_access_token(\"your_mapbox_token\")\n",
        "\n",
        "fig = px.choropleth_mapbox(\n",
        "    df_2019,\n",
        "    geojson=geojson_data,\n",
        "    locations=\"country_code\",\n",
        "    featureidkey=\"properties.ISO_A3\",\n",
        "    color=\"Prevalence of total tobacco use\",\n",
        "    color_continuous_scale=\"sunset\",\n",
        "    range_color=(10, 50),\n",
        "    title=\"Tobacco Use by Country\",\n",
        "    mapbox_style=\"carto-positron\",\n",
        "    center={\"lat\": 0, \"lon\": 0},\n",
        "    zoom=1,\n",
        ")\n",
        "fig.update_layout(margin={\"r\":0,\"t\":0,\"l\":0,\"b\":0})\n",
        "fig.show()"
      ]
    },
    {
      "cell_type": "markdown",
      "metadata": {
        "id": "01jEaWGvgiE8"
      },
      "source": [
        "## General graphs to make (refer to Happiness Report) (Toshi)"
      ]
    },
    {
      "cell_type": "markdown",
      "metadata": {
        "id": "JJk2hXhggm8H"
      },
      "source": []
    },
    {
      "cell_type": "markdown",
      "metadata": {
        "id": "cVo425lUgnAa"
      },
      "source": [
        "### Heatmap"
      ]
    },
    {
      "cell_type": "code",
      "execution_count": null,
      "metadata": {
        "id": "FSasonzNgo1Y"
      },
      "outputs": [],
      "source": [
        "correlation_matrix = df.corr()\n",
        "plt.figure(figsize=(10,6))\n",
        "annot_kws={'fontsize': 10,\n",
        "           'color':\"k\",\n",
        "           'alpha': 0.8,\n",
        "           'verticalalignment':'center'}\n",
        "#matrix = np.triu(correlation_matrix) + mask=matrix\n",
        "sns.heatmap(correlation_matrix, annot=True, annot_kws = annot_kws, cmap='coolwarm', fmt='.2f', linewidths=0.5)\n",
        "plt.title('Correlation Heatmap')\n",
        "plt.show()"
      ]
    },
    {
      "cell_type": "code",
      "source": [
        "correlation_matrix = sorted_missing_country_codes.corr()\n",
        "plt.figure(figsize=(10,6))\n",
        "annot_kws={'fontsize': 10,\n",
        "           'color':\"k\",\n",
        "           'alpha': 0.8,\n",
        "           'verticalalignment':'center'}\n",
        "#matrix = np.triu(correlation_matrix) + mask=matrix\n",
        "sns.heatmap(correlation_matrix, annot=True, annot_kws = annot_kws, cmap='coolwarm', fmt='.2f', linewidths=0.5)\n",
        "plt.title('Correlation Heatmap for Regions')\n",
        "plt.show()"
      ],
      "metadata": {
        "id": "ZednlkVd9uUm"
      },
      "execution_count": null,
      "outputs": []
    },
    {
      "cell_type": "markdown",
      "metadata": {
        "id": "a8zwpmyhgr_2"
      },
      "source": [
        "### Histogram"
      ]
    },
    {
      "cell_type": "code",
      "source": [
        "plt.figure(figsize=(10,10))\n",
        "sns.histplot(data=df, x='Prevalence of total tobacco use', bins=10, kde=True)\n",
        "plt.title('Prevalence of total tobacco use distribution')\n",
        "plt.xlabel('% of adult population')\n",
        "plt.ylabel('Count')\n",
        "plt.show()"
      ],
      "metadata": {
        "id": "kFCeIMItFV2G"
      },
      "execution_count": null,
      "outputs": []
    },
    {
      "cell_type": "code",
      "source": [
        "years = df['date'].unique()\n",
        "\n",
        "# Create subplots for each year\n",
        "fig, axes = plt.subplots(nrows=1, ncols=len(years), figsize=(15, 5))\n",
        "\n",
        "for i, year in enumerate(years):\n",
        "    ax = axes[i]\n",
        "    sns.histplot(data=df[df['date'] == year], x='Prevalence of total tobacco use', bins=8, kde=True, ax=ax)\n",
        "    ax.set_title(f'Year {year}')\n",
        "    ax.set_xlabel('Smokers % of adult population')\n",
        "    ax.set_xlim(0, 60)\n",
        "    ax.set_ylabel('Count')\n",
        "    ax.set_ylim(0, 50)\n",
        "\n",
        "plt.tight_layout()\n",
        "plt.show()"
      ],
      "metadata": {
        "id": "kFuV7dPcKUBV"
      },
      "execution_count": null,
      "outputs": []
    },
    {
      "cell_type": "code",
      "source": [
        "country_name = 'Myanmar'\n",
        "\n",
        "country_data = df[df['country'] == country_name]\n",
        "\n",
        "plt.figure(figsize=(10,6))\n",
        "sns.lineplot(data=country_data, x = 'date', y = 'Prevalence of total tobacco use', marker = 'o')\n",
        "plt.xlabel('Year')\n",
        "plt.ylabel('Smokers % of adult population')\n",
        "plt.title(f'Trend of Smokers % of adult population over the Years for {country_name}')\n",
        "plt.grid(True)\n",
        "plt.show()"
      ],
      "metadata": {
        "id": "VrCr7DeHM9Pr"
      },
      "execution_count": null,
      "outputs": []
    },
    {
      "cell_type": "code",
      "source": [
        "# all_countries = df['country'].unique()  # Add more countries as needed\n",
        "\n",
        "# Assuming df['country'] contains the list of all countries\n",
        "all_countries = df['country'].unique()\n",
        "\n",
        "# Select 30 random countries\n",
        "random_countries = random.sample(all_countries.tolist(), 10)\n",
        "countries_to_plot = random_countries\n",
        "\n",
        "\n",
        "plt.figure(figsize=(10, 6))\n",
        "\n",
        "# Iterate over the list of countries and plot the data for each\n",
        "for country_name in countries_to_plot:\n",
        "    country_data = df[df['country'] == country_name]\n",
        "    sns.lineplot(data=country_data, x='date', y='Prevalence of total tobacco use', marker='o', label=country_name)\n",
        "\n",
        "plt.xlabel('Year')\n",
        "plt.ylabel('Smokers % of adult population')\n",
        "plt.title('Trend of Smokers % of adult population over the Years')\n",
        "plt.grid(True)\n",
        "plt.legend()  # Add a legend to distinguish countries\n",
        "plt.show()"
      ],
      "metadata": {
        "id": "pxNKu1ZGSdy_"
      },
      "execution_count": null,
      "outputs": []
    },
    {
      "cell_type": "markdown",
      "metadata": {
        "id": "isnAHjGkgtc2"
      },
      "source": [
        "### Pairplot"
      ]
    },
    {
      "cell_type": "code",
      "execution_count": null,
      "metadata": {
        "id": "BUCmpgaAgutu"
      },
      "outputs": [],
      "source": [
        "sns.pairplot(df[['GDP per capita', 'Prevalence of total tobacco use',\n",
        "                 'Tobacco use by Females', 'Tobacco use by males','Prevalence of total alcohol use',\n",
        "                 'Alcohol use by females','Alcohol use by males']], height=2)\n",
        "\n",
        "plt.suptitle('Pairwise Relationships')\n",
        "plt.show()"
      ]
    },
    {
      "cell_type": "markdown",
      "metadata": {
        "id": "_Gb49Mk9rErI"
      },
      "source": [
        "[FARIHA] : HYPOTHESIS part\n",
        "## Hypotheses:\n",
        "1. Richer countries consume more tobacco. (GDP and tobacco)\n",
        "2. Countries with more people consuming tobacco also have more people drinking more alcohol.\n",
        "3. Richer countries has more equal consumption between male and female tobacco use."
      ]
    },
    {
      "cell_type": "markdown",
      "metadata": {
        "id": "rs98ktAprxFW"
      },
      "source": [
        "# Richer countries consume more tobacco. (GDP and tobacco)"
      ]
    },
    {
      "cell_type": "code",
      "execution_count": null,
      "metadata": {
        "id": "_5uNm7JPNH80"
      },
      "outputs": [],
      "source": [
        "#no median, fuzzy graph\n",
        "plt.figure(figsize=(10, 6))\n",
        "sns.lineplot(data=df, x='GDP per capita', y='Prevalence of total tobacco use', errorbar=None)\n",
        "plt.xlabel('GDP per capita')\n",
        "plt.ylabel('Prevalence of total tobacco use')\n",
        "plt.title('Trend of GDP and Tobbaco User')\n",
        "plt.show()"
      ]
    },
    {
      "cell_type": "code",
      "source": [
        "plt.figure(figsize=(10, 6))\n",
        "sns.scatterplot(data=df, x='GDP per capita', y='Prevalence of total tobacco use')\n",
        "plt.xlabel('GDP per capita')\n",
        "plt.ylabel('Prevalence of total tobacco use')\n",
        "plt.title('Trend of GDP and Tobbaco User')\n",
        "plt.show()"
      ],
      "metadata": {
        "id": "R7C9K7BGIyQU"
      },
      "execution_count": null,
      "outputs": []
    },
    {
      "cell_type": "code",
      "source": [
        "fig, axes = plt.subplots(1, len(years), figsize=(15, 4))\n",
        "\n",
        "# Iterate through years and create scatter plots\n",
        "for i, year in enumerate(years):\n",
        "    ax = axes[i]\n",
        "    data_year = df[df['date'] == year]\n",
        "    sns.scatterplot(data=data_year, x='GDP per capita', y='Prevalence of total tobacco use', ax=ax)\n",
        "    ax.set_xlabel('GDP per capita')\n",
        "    ax.set_ylabel('Prevalence of total tobacco use')\n",
        "    ax.set_title(f'Trend for Year {year}')\n",
        "\n",
        "# Adjust layout\n",
        "plt.tight_layout()\n",
        "plt.show()"
      ],
      "metadata": {
        "id": "vxILoLtQBbN6"
      },
      "execution_count": null,
      "outputs": []
    },
    {
      "cell_type": "code",
      "source": [],
      "metadata": {
        "id": "8X3YgV5-Djr-"
      },
      "execution_count": null,
      "outputs": []
    },
    {
      "cell_type": "code",
      "execution_count": null,
      "metadata": {
        "id": "oqIHXbNar1lV"
      },
      "outputs": [],
      "source": [
        "median_gdp_per_capita = df.groupby('date')['GDP per capita'].median()\n",
        "\n",
        "# Calculate the median tobacco consumption for each year\n",
        "median_tobacco_consumption = df.groupby('date')['Prevalence of total tobacco use'].median()\n",
        "\n",
        "# Plot the median GDP per capita against the median tobacco consumption for each year\n",
        "sns.lineplot(x=median_gdp_per_capita, y=median_tobacco_consumption)\n",
        "plt.title('GDP and Tobacco Use Relation')"
      ]
    },
    {
      "cell_type": "code",
      "execution_count": null,
      "metadata": {
        "id": "0-gpjDPar2jO"
      },
      "outputs": [],
      "source": [
        "# Create a scatter plot\n",
        "plt.scatter(x=median_tobacco_consumption, y=median_gdp_per_capita)\n",
        "# Label\n",
        "plt.xlabel('Tobacco')\n",
        "plt.ylabel('GDP')\n",
        "plt.title('GDP and Tobacco Use Relation')\n",
        "plt.show()\n",
        "#trend is not easy to define"
      ]
    },
    {
      "cell_type": "code",
      "execution_count": null,
      "metadata": {
        "id": "0aYmZeqXr45a"
      },
      "outputs": [],
      "source": [
        "cor1 = median_tobacco_consumption.corr(median_gdp_per_capita)\n",
        "cor1"
      ]
    },
    {
      "cell_type": "code",
      "execution_count": null,
      "metadata": {
        "id": "5bVjh_wVM3C9"
      },
      "outputs": [],
      "source": [
        "#by year 2015, still error\n",
        "plt.figure(figsize=(10, 6))\n",
        "da=df[(df['date']==2015)]\n",
        "plt.scatter(data=da, x='GDP per capita', y='Prevalence of total tobacco use')\n",
        "plt.xlabel('GDP per capita')\n",
        "plt.ylabel('Prevalence of total tobacco use')\n",
        "plt.title('2015 GDP and Tobbaco User')\n",
        "plt.show()"
      ]
    },
    {
      "cell_type": "markdown",
      "metadata": {
        "id": "ivaY39JKsA2G"
      },
      "source": [
        "they have a high negative correlation. the higher the GDP, the less tobacco consumption they have. likely due to: higher lebel of educatuon and income are more aware of the health risks tobacco has. other than that, they might have a stronger regulation like tax and public places for smoking. do we need to prove this?"
      ]
    },
    {
      "cell_type": "markdown",
      "metadata": {
        "id": "N43_s5PDsFu6"
      },
      "source": [
        "# Countries with more people consuming tobacco also have more people drinking more alcohol.\n"
      ]
    },
    {
      "cell_type": "code",
      "execution_count": null,
      "metadata": {
        "id": "cvpeoERDr9PE"
      },
      "outputs": [],
      "source": [
        "median_alcohol = df.groupby('date')['Prevalence of total alcohol use'].median()\n",
        "\n",
        "# Calculate the median tobacco consumption for each year\n",
        "median_tobacco_consumption = df.groupby('date')['Prevalence of total tobacco use'].median()\n",
        "\n",
        "# Plot the median GDP per capita against the median tobacco consumption for each year\n",
        "sns.lineplot(x=median_alcohol, y=median_tobacco_consumption)\n",
        "plt.title('Alcohol and Tobacco Use Relation')"
      ]
    },
    {
      "cell_type": "code",
      "execution_count": null,
      "metadata": {
        "id": "CAxlwCCCMV74"
      },
      "outputs": [],
      "source": [
        "plt.figure(figsize=(10, 6))\n",
        "#East Asia & Pacific\n",
        "dfeap = wbdata.get_dataframe(indicators, country ='EAP')\n",
        "sns.lineplot(data=dfeap, x='Prevalence of total alcohol use', y='Prevalence of total tobacco use', errorbar=None)\n",
        "plt.xlabel('Alcohol use')\n",
        "plt.ylabel('Tobacco_use')\n",
        "plt.title('Alcohol and Tobbaco User in East Asia & Pacific')\n",
        "plt.show()"
      ]
    },
    {
      "cell_type": "code",
      "source": [
        "plt.figure(figsize=(10, 6))\n",
        "sns.scatterplot(data=df, x='Prevalence of total alcohol use', y='Prevalence of total tobacco use')\n",
        "plt.xlabel('Prevalence of total alcohol use')\n",
        "plt.ylabel('Prevalence of total tobacco use')\n",
        "plt.title('Trend of Alcohol and Tobbaco User')\n",
        "plt.show()"
      ],
      "metadata": {
        "id": "sW2XXMYeARq5"
      },
      "execution_count": null,
      "outputs": []
    },
    {
      "cell_type": "code",
      "source": [
        "fig, axes = plt.subplots(1, len(years), figsize=(15, 4))\n",
        "\n",
        "# Iterate through years and create scatter plots\n",
        "for i, year in enumerate(years):\n",
        "    ax = axes[i]\n",
        "    data_year = df[df['date'] == year]\n",
        "    sns.scatterplot(data=data_year, x='Prevalence of total alcohol use', y='Prevalence of total tobacco use', ax=ax)\n",
        "    ax.set_xlabel('Prevalence of total alcohol use')\n",
        "    ax.set_ylabel('Prevalence of total tobacco use')\n",
        "    ax.set_title(f'Trend for Year {year}')\n",
        "\n",
        "# Adjust layout\n",
        "plt.tight_layout()\n",
        "plt.show()"
      ],
      "metadata": {
        "id": "6-sr1YplAa3Z"
      },
      "execution_count": null,
      "outputs": []
    },
    {
      "cell_type": "markdown",
      "source": [
        "Conclusion: A loose positive correlation between prevalence of total tobacco use and alcohol use."
      ],
      "metadata": {
        "id": "C7WxBzq9FrFe"
      }
    },
    {
      "cell_type": "markdown",
      "metadata": {
        "id": "CTjdV2fMsOwG"
      },
      "source": [
        "# Richer countries has more equal consumption between male and female tobacco use.\n"
      ]
    },
    {
      "cell_type": "code",
      "execution_count": null,
      "metadata": {
        "id": "lO8EuqZbsJt5"
      },
      "outputs": [],
      "source": [
        "column_name = 'GDP per capita'\n",
        "quartiles = df[column_name].quantile([0.25, 0.5, 0.75])\n",
        "high_income = df.loc[df[column_name] >= quartiles[0.75]]\n",
        "#middle_income != high_income & low_income\n",
        "low_income = df.loc[df[column_name] >= quartiles[0.25]]"
      ]
    },
    {
      "cell_type": "code",
      "execution_count": null,
      "metadata": {
        "id": "XuDTirwWsST6"
      },
      "outputs": [],
      "source": [
        "# Calculate the mean and standard deviation of female and male tobacco use in high income countries\n",
        "hftobacco_mean = high_income['Tobacco use by Females'].mean()\n",
        "hftobacco_std = high_income['Tobacco use by Females'].std()\n",
        "hmtobacco_mean = high_income['Tobacco use by males'].mean()\n",
        "hmtobacco_std = high_income['Tobacco use by males'].mean()\n",
        "\n",
        "# Calculate the mean and standard deviation of female and male tobacco use in low income countries\n",
        "lftobacco_mean = low_income['Tobacco use by Females'].mean()\n",
        "lftobacco_std = low_income['Tobacco use by Females'].std()\n",
        "lmtobacco_mean = low_income['Tobacco use by males'].mean()\n",
        "lmtobacco_std = low_income['Tobacco use by males'].std()"
      ]
    },
    {
      "cell_type": "code",
      "execution_count": null,
      "metadata": {
        "id": "kBBC9IbIsUeB"
      },
      "outputs": [],
      "source": [
        "print(\"In high income countries: \")\n",
        "print(\"Mean of tobacco use for males:\",hmtobacco_mean)\n",
        "print(\"Mean of tobacco use for females:\",hftobacco_mean)\n",
        "print(\"In low income countries\")\n",
        "print(\"Mean of tobacco use for males:\",lmtobacco_mean)\n",
        "print(\"Mean of tobacco use for females:\",lftobacco_mean)"
      ]
    },
    {
      "cell_type": "code",
      "execution_count": null,
      "metadata": {
        "id": "UHlmfxARsXYP"
      },
      "outputs": [],
      "source": [
        "absolute_difference_low = abs(lmtobacco_mean-lftobacco_mean)\n",
        "print(\"absolute difference in low income countries:\", absolute_difference_low)\n",
        "absolute_difference_high= abs(hmtobacco_mean-hftobacco_mean)\n",
        "print(\"absolute difference in high income countries:\", absolute_difference_high)\n"
      ]
    },
    {
      "cell_type": "code",
      "execution_count": null,
      "metadata": {
        "id": "1LZ0hjktsaU-"
      },
      "outputs": [],
      "source": [
        "df['total_tobacco_consumption'] = df['Tobacco use by Females'] + df['Tobacco use by males']"
      ]
    },
    {
      "cell_type": "code",
      "execution_count": null,
      "metadata": {
        "id": "8CwQucALsePE"
      },
      "outputs": [],
      "source": [
        "#an attempt to see both female and male in the same graph\n",
        "da = df.sort_values(by='GDP per capita', ascending=False)\n",
        "#da = da['GDP per capita']<=60000\n",
        "# Create the bar chart\n",
        "plt.figure(figsize=(10, 6))\n",
        "plt.bar(df['GDP per capita'], df['total_tobacco_consumption'], color=['blue', 'red'])\n",
        "# Add a legend\n",
        "# Add labels and title\n",
        "plt.xlabel('GDP per capita')\n",
        "plt.ylabel('Total Tobacco Consumption')\n",
        "plt.title('Total Tobacco Consumption by GDP and Gender')\n",
        "plt.legend(loc='upper left')\n",
        "\n",
        "# Show the plot\n",
        "plt.show()\n",
        "# Add labels and title"
      ]
    },
    {
      "cell_type": "code",
      "source": [
        "plt.figure(figsize=(10, 5))\n",
        "plt.subplot(1, 2, 1)\n",
        "sns.histplot(data=df, x='Tobacco use by males', bins=10, kde=True)\n",
        "plt.title('Prevalence of tobacco use by males distribution')\n",
        "plt.xlabel('% of males population')\n",
        "plt.ylabel('Count')\n",
        "\n",
        "plt.subplot(1, 2, 2)\n",
        "sns.histplot(data=df, x='Tobacco use by Females', bins=10, kde=True, color='orange')\n",
        "plt.title('Prevalence of tobacco use by females distribution')\n",
        "plt.xlabel('% of females population')\n",
        "plt.ylabel('Count')\n",
        "\n",
        "plt.tight_layout()\n",
        "plt.show()"
      ],
      "metadata": {
        "id": "1oI7CVnDGZOF"
      },
      "execution_count": null,
      "outputs": []
    },
    {
      "cell_type": "code",
      "source": [
        "df['Difference in tobacco use by gender (males - females)'] = df['Tobacco use by males'] - df['Tobacco use by Females']"
      ],
      "metadata": {
        "id": "zs3kJRYdGxzx"
      },
      "execution_count": null,
      "outputs": []
    },
    {
      "cell_type": "code",
      "source": [
        "df"
      ],
      "metadata": {
        "id": "BthvixAqHd2G"
      },
      "execution_count": null,
      "outputs": []
    },
    {
      "cell_type": "code",
      "source": [
        "plt.figure(figsize=(10, 6))\n",
        "sns.scatterplot(data=df, x='GDP per capita', y='Difference in tobacco use by gender (males - females)')\n",
        "plt.xlabel('GDP per capita')\n",
        "plt.ylabel('Difference in tobacco use by gender')\n",
        "plt.title('Trend of GDP per capita and Tobbaco Use by Gender')\n",
        "plt.show()"
      ],
      "metadata": {
        "id": "pnvPE-UpH18P"
      },
      "execution_count": null,
      "outputs": []
    },
    {
      "cell_type": "code",
      "source": [
        "fig, axes = plt.subplots(1, len(years), figsize=(20, 4))\n",
        "\n",
        "# Iterate through years and create scatter plots\n",
        "for i, year in enumerate(years):\n",
        "    ax = axes[i]\n",
        "    data_year = df[df['date'] == year]\n",
        "    sns.scatterplot(data=data_year, x='GDP per capita', y='Difference in tobacco use by gender (males - females)', ax=ax)\n",
        "    ax.set_xlabel('GDP per capita')\n",
        "    ax.set_ylabel('Difference in tobacco use by gender')\n",
        "    ax.set_title(f'Trend for Year {year}')\n",
        "\n",
        "# Adjust layout\n",
        "plt.tight_layout()\n",
        "plt.show()"
      ],
      "metadata": {
        "id": "enT3wxl4Iicb"
      },
      "execution_count": null,
      "outputs": []
    },
    {
      "cell_type": "code",
      "source": [
        "countries_income = df[df['Income Level'] == 'High']\n",
        "\n",
        "fig, axes = plt.subplots(1, len(years), figsize=(20, 4))\n",
        "\n",
        "# Iterate through years and create scatter plots\n",
        "for i, year in enumerate(years):\n",
        "    ax = axes[i]\n",
        "    data_year = countries_income[countries_income['date'] == year]\n",
        "    sns.scatterplot(data=data_year, x='GDP per capita', y='Difference in tobacco use by gender (males - females)', ax=ax)\n",
        "    ax.set_xlabel('GDP per capita')\n",
        "    ax.set_ylabel('Difference in tobacco use by gender')\n",
        "    ax.set_title(f'Trend for Year {year}')\n",
        "\n",
        "# Adjust layout\n",
        "plt.tight_layout()\n",
        "plt.show()"
      ],
      "metadata": {
        "id": "meNU-zNoMyhC"
      },
      "execution_count": null,
      "outputs": []
    },
    {
      "cell_type": "code",
      "source": [
        "higher_female_tobacco_use = df[df['Difference in tobacco use by gender (males - females)']<0]\n",
        "higher_female_tobacco_use"
      ],
      "metadata": {
        "id": "uQcerbk5LVEB"
      },
      "execution_count": null,
      "outputs": []
    },
    {
      "cell_type": "code",
      "source": [
        "sorted_missing_country_codes['Difference in tobacco use by gender (males - females)'] = sorted_missing_country_codes['Tobacco use by males'] - sorted_missing_country_codes['Tobacco use by Females']\n",
        "plt.figure(figsize=(11, 7))\n",
        "\n",
        "# Iterate over the list of countries and plot the data for each\n",
        "for country_name in country_names:\n",
        "    country_data = sorted_missing_country_codes[sorted_missing_country_codes['country'] == country_name]\n",
        "    sns.lineplot(data=country_data, x='date', y='Difference in tobacco use by gender (males - females)', marker='o', label=country_name)\n",
        "\n",
        "plt.xlabel('Year')\n",
        "plt.ylabel('Smokers % of adult population')\n",
        "plt.title('Trend of Smokers % of adult population over the Years')\n",
        "plt.grid(True)\n",
        "plt.legend()  # Add a legend to distinguish countries\n",
        "plt.show()"
      ],
      "metadata": {
        "id": "GYLVlyuPJQVO"
      },
      "execution_count": null,
      "outputs": []
    },
    {
      "cell_type": "code",
      "source": [],
      "metadata": {
        "id": "WFqsURqRKSsV"
      },
      "execution_count": null,
      "outputs": []
    }
  ],
  "metadata": {
    "colab": {
      "provenance": []
    },
    "kernelspec": {
      "display_name": "Python 3",
      "name": "python3"
    },
    "language_info": {
      "name": "python"
    }
  },
  "nbformat": 4,
  "nbformat_minor": 0
}